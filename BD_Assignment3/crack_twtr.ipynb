{
 "cells": [
  {
   "cell_type": "markdown",
   "metadata": {},
   "source": [
    "## Twitter Data for Predicting Stock Returns"
   ]
  },
  {
   "cell_type": "code",
   "execution_count": 1,
   "metadata": {
    "collapsed": true
   },
   "outputs": [],
   "source": [
    "import re\n",
    "import json\n",
    "import pandas as pd\n",
    "import statsmodels.api as sm\n",
    "import matplotlib.pyplot as plt\n",
    "from pyspark.sql import SparkSession"
   ]
  },
  {
   "cell_type": "code",
   "execution_count": 2,
   "metadata": {
    "collapsed": false
   },
   "outputs": [],
   "source": [
    "global stock_set\n",
    "global positive_words, negative_words\n",
    "price_csv = 'close_price.csv'\n",
    "stock_set = ['IBM', 'MSFT', 'TSLA', \"AMZN\", \"VZ\"]\n",
    "words_csv = 'LoughranMcDonald_MasterDictionary_2014.csv'\n",
    "lmDic = pd.read_csv(words_csv)[['Word','Negative','Positive']]\n",
    "positive_words = list(lmDic[lmDic['Negative']!=0]['Word'])\n",
    "negative_words = list(lmDic[lmDic['Positive']!=0]['Word'])"
   ]
  },
  {
   "cell_type": "code",
   "execution_count": 3,
   "metadata": {
    "collapsed": false
   },
   "outputs": [],
   "source": [
    "class crack_twtr():\n",
    "    def __init__(self):\n",
    "        self.price_info = []\n",
    "        self.twtr_ = []\n",
    "        self.models = []\n",
    "        self.predict_ = {}\n",
    "        self.spark = SparkSession.builder.master(\"local[4]\").appName(\"crack_twtr\").getOrCreate()\n",
    "        self.path_list = None\n",
    "        self.plot_y = [] \n",
    "        self.plot_x = [] \n",
    "   \n",
    "    def enter_price_csv(self, price_csv):\n",
    "        self.price_info = pd.read_csv(price_csv, parse_dates=['Date'],\\\n",
    "                                      date_parser=lambda dates: pd.datetime.strptime(dates, '%m/%d/%Y'))\n",
    "        \n",
    "\n",
    "    def get_twtr_path(self, price_info):\n",
    "        twtr_path = []\n",
    "        date_list = price_info['Date']\n",
    "        for i in date_list:\n",
    "            twtr_path.append(\"{:02d}/{:02d}/*/*.json.bz2\".format(i.month,i.day))\n",
    "        return twtr_path    \n",
    "\n",
    "    def twtr_analyze(self):\n",
    "        self.path_list = self.get_twtr_path(self.price_info) ##\n",
    "        \n",
    "        def extract_features(twtr_line):\n",
    "            twtr_line = str(twtr_line)\n",
    "            split_line = twtr_line.split(\", \")\n",
    "            text = re.sub(\"(@[A-Za-z0-9]+)|([^0-9A-Za-z \\t])|(\\w+:\\/\\/\\S+)|(text=u)\",\" \", split_line[1])\n",
    "            \n",
    "            info_set = {}\n",
    "            for s in stock_set:\n",
    "                info_set.update({s:{\"followers_count\":0, \"p_count\":0, \"n_count\":0, \"mentioned_count\": 0}})\n",
    "                   \n",
    "            for s in stock_set:\n",
    "                if (s in text) or (s.lower() in text):\n",
    "                    info_set[s]['followers_count'] = filter(str.isdigit, split_line[0])\n",
    "                    info_set[s]['mentioned_count'] = 1\n",
    "\n",
    "                    split_text = text.split()\n",
    "\n",
    "                    for st in split_text:\n",
    "                        st = st.upper()\n",
    "                        if st in positive_words:\n",
    "                            info_set[s]['p_count'] += 1\n",
    "                        elif st in negative_words:\n",
    "                            info_set[s]['n_count'] += 1\n",
    "                        else:\n",
    "                            pass\n",
    "            return info_set\n",
    "    \n",
    "        def aggragete_result(r1, r2):\n",
    "            for s in stock_set:\n",
    "                r1[s][\"followers_count\"] = int(r1[s][\"followers_count\"]) + int(r2[s][\"followers_count\"]) \n",
    "                r1[s][\"mentioned_count\"] = int(r1[s][\"mentioned_count\"]) + int(r2[s][\"mentioned_count\"]) \n",
    "                r1[s][\"n_count\"] = int(r1[s][\"n_count\"]) + int(r2[s][\"n_count\"]) \n",
    "                r1[s][\"p_count\"] = int(r1[s][\"p_count\"]) + int(r2[s][\"p_count\"]) \n",
    "            return r1\n",
    "        \n",
    "        for i in self.path_list:  ## the first feature is the params\n",
    "            twtr = self.spark.read.json(i)\n",
    "            twtr_en = twtr.filter(twtr['lang'] == 'en')\n",
    "            twtr_target = twtr_en.select(twtr_en['user']['followers_count'],twtr_en['text'])\n",
    "            self.twtr_.append(twtr_target.rdd.map(extract_features).reduce(aggragete_result))\n",
    "            \n",
    "        # regression\n",
    "        for s in stock_set:\n",
    "            X = []\n",
    "            for f in self.twtr_[1:]:\n",
    "                X.append([1, f[s]['followers_count']/1000., f[s]['mentioned_count'], f[s]['p_count'], f[s]['n_count']])\n",
    "            pp = self.twtr_[0]\n",
    "            predicting_param = [1, pp[s]['followers_count']/1000., pp[s]['mentioned_count'], pp[s]['p_count'], pp[s]['n_count']]\n",
    "            pricetmp = self.price_info[['Date', s]]\n",
    "            pricetmp1 = pricetmp[s].diff()/ pricetmp[s]\n",
    "            returns = list(pricetmp1[~pricetmp1.isnull()])\n",
    "            model = sm.OLS(returns, X).fit()\n",
    "            self.models.append(model)\n",
    "            self.plot_y = returns\n",
    "            self.plot_x = X\n",
    "            predicted_returns = model.predict(predicting_param)\n",
    "            predicted_price = (predicted_returns+1)*self.price_info[s][0]\n",
    "            self.predict_.update({s:{\"predict_return\":predicted_returns,\"predict_price\":predicted_price}})\n",
    "            \n",
    "    def show_plot(self, n):\n",
    "        index = range(1,len(self.plot_y)+1)\n",
    "        plot_y_fit = [float(self.models[n].predict(self.plot_x[i])) for i in xrange(0,len(self.plot_y))]\n",
    "        plt.plot(index, self.plot_y, 'r-.', label = \"real_value\")\n",
    "        plt.plot(index, plot_y_fit, 'b--', label = \"fitted_value\")\n",
    "        plt.xlabel('Time')\n",
    "        plt.ylabel('Returns')\n",
    "        plt.legend()\n",
    "        plt.show()"
   ]
  },
  {
   "cell_type": "code",
   "execution_count": 4,
   "metadata": {
    "collapsed": false
   },
   "outputs": [],
   "source": [
    "task = crack_twtr()\n",
    "task.enter_price_csv(price_csv)\n",
    "task.twtr_analyze()"
   ]
  },
  {
   "cell_type": "code",
   "execution_count": 33,
   "metadata": {
    "collapsed": false
   },
   "outputs": [
    {
     "data": {
      "image/png": "[encoded data removed]",
      "text/plain": [
       "<matplotlib.figure.Figure at 0x7f09309435d0>"
      ]
     },
     "metadata": {},
     "output_type": "display_data"
    }
   ],
   "source": [
    "task.show_plot()"
   ]
  },
  {
   "cell_type": "code",
   "execution_count": 34,
   "metadata": {
    "collapsed": false,
    "scrolled": false
   },
   "outputs": [
    {
     "data": {
      "text/html": [
       "<table class=\"simpletable\">\n",
       "<caption>OLS Regression Results</caption>\n",
       "<tr>\n",
       "  <th>Dep. Variable:</th>            <td>y</td>        <th>  R-squared:         </th> <td>   0.495</td>\n",
       "</tr>\n",
       "<tr>\n",
       "  <th>Model:</th>                   <td>OLS</td>       <th>  Adj. R-squared:    </th> <td>   0.361</td>\n",
       "</tr>\n",
       "<tr>\n",
       "  <th>Method:</th>             <td>Least Squares</td>  <th>  F-statistic:       </th> <td>   3.680</td>\n",
       "</tr>\n",
       "<tr>\n",
       "  <th>Date:</th>             <td>Sun, 26 Mar 2017</td> <th>  Prob (F-statistic):</th>  <td>0.0279</td> \n",
       "</tr>\n",
       "<tr>\n",
       "  <th>Time:</th>                 <td>04:04:54</td>     <th>  Log-Likelihood:    </th> <td>  75.214</td>\n",
       "</tr>\n",
       "<tr>\n",
       "  <th>No. Observations:</th>      <td>    20</td>      <th>  AIC:               </th> <td>  -140.4</td>\n",
       "</tr>\n",
       "<tr>\n",
       "  <th>Df Residuals:</th>          <td>    15</td>      <th>  BIC:               </th> <td>  -135.4</td>\n",
       "</tr>\n",
       "<tr>\n",
       "  <th>Df Model:</th>              <td>     4</td>      <th>                     </th>     <td> </td>   \n",
       "</tr>\n",
       "<tr>\n",
       "  <th>Covariance Type:</th>      <td>nonrobust</td>    <th>                     </th>     <td> </td>   \n",
       "</tr>\n",
       "</table>\n",
       "<table class=\"simpletable\">\n",
       "<tr>\n",
       "    <td></td>       <th>coef</th>     <th>std err</th>      <th>t</th>      <th>P>|t|</th> <th>[95.0% Conf. Int.]</th> \n",
       "</tr>\n",
       "<tr>\n",
       "  <th>const</th> <td>    0.0006</td> <td>    0.004</td> <td>    0.145</td> <td> 0.886</td> <td>   -0.008     0.009</td>\n",
       "</tr>\n",
       "<tr>\n",
       "  <th>x1</th>    <td> 2.028e-06</td> <td> 3.45e-06</td> <td>    0.588</td> <td> 0.565</td> <td>-5.32e-06  9.38e-06</td>\n",
       "</tr>\n",
       "<tr>\n",
       "  <th>x2</th>    <td>-8.255e-05</td> <td>  9.3e-05</td> <td>   -0.888</td> <td> 0.389</td> <td>   -0.000     0.000</td>\n",
       "</tr>\n",
       "<tr>\n",
       "  <th>x3</th>    <td>   -0.0006</td> <td>    0.000</td> <td>   -3.539</td> <td> 0.003</td> <td>   -0.001    -0.000</td>\n",
       "</tr>\n",
       "<tr>\n",
       "  <th>x4</th>    <td>    0.0009</td> <td>    0.001</td> <td>    1.585</td> <td> 0.134</td> <td>   -0.000     0.002</td>\n",
       "</tr>\n",
       "</table>\n",
       "<table class=\"simpletable\">\n",
       "<tr>\n",
       "  <th>Omnibus:</th>       <td> 0.887</td> <th>  Durbin-Watson:     </th> <td>   2.206</td>\n",
       "</tr>\n",
       "<tr>\n",
       "  <th>Prob(Omnibus):</th> <td> 0.642</td> <th>  Jarque-Bera (JB):  </th> <td>   0.411</td>\n",
       "</tr>\n",
       "<tr>\n",
       "  <th>Skew:</th>          <td>-0.350</td> <th>  Prob(JB):          </th> <td>   0.814</td>\n",
       "</tr>\n",
       "<tr>\n",
       "  <th>Kurtosis:</th>      <td> 2.939</td> <th>  Cond. No.          </th> <td>1.91e+03</td>\n",
       "</tr>\n",
       "</table>"
      ],
      "text/plain": [
       "<class 'statsmodels.iolib.summary.Summary'>\n",
       "\"\"\"\n",
       "                            OLS Regression Results                            \n",
       "==============================================================================\n",
       "Dep. Variable:                      y   R-squared:                       0.495\n",
       "Model:                            OLS   Adj. R-squared:                  0.361\n",
       "Method:                 Least Squares   F-statistic:                     3.680\n",
       "Date:                Sun, 26 Mar 2017   Prob (F-statistic):             0.0279\n",
       "Time:                        04:04:54   Log-Likelihood:                 75.214\n",
       "No. Observations:                  20   AIC:                            -140.4\n",
       "Df Residuals:                      15   BIC:                            -135.4\n",
       "Df Model:                           4                                         \n",
       "Covariance Type:            nonrobust                                         \n",
       "==============================================================================\n",
       "                 coef    std err          t      P>|t|      [95.0% Conf. Int.]\n",
       "------------------------------------------------------------------------------\n",
       "const          0.0006      0.004      0.145      0.886        -0.008     0.009\n",
       "x1          2.028e-06   3.45e-06      0.588      0.565     -5.32e-06  9.38e-06\n",
       "x2         -8.255e-05    9.3e-05     -0.888      0.389        -0.000     0.000\n",
       "x3            -0.0006      0.000     -3.539      0.003        -0.001    -0.000\n",
       "x4             0.0009      0.001      1.585      0.134        -0.000     0.002\n",
       "==============================================================================\n",
       "Omnibus:                        0.887   Durbin-Watson:                   2.206\n",
       "Prob(Omnibus):                  0.642   Jarque-Bera (JB):                0.411\n",
       "Skew:                          -0.350   Prob(JB):                        0.814\n",
       "Kurtosis:                       2.939   Cond. No.                     1.91e+03\n",
       "==============================================================================\n",
       "\n",
       "Warnings:\n",
       "[1] Standard Errors assume that the covariance matrix of the errors is correctly specified.\n",
       "[2] The condition number is large, 1.91e+03. This might indicate that there are\n",
       "strong multicollinearity or other numerical problems.\n",
       "\"\"\""
      ]
     },
     "execution_count": 34,
     "metadata": {},
     "output_type": "execute_result"
    }
   ],
   "source": [
    "task.models[0].summary()"
   ]
  },
  {
   "cell_type": "markdown",
   "metadata": {},
   "source": [
    "##### From above plot and chart, we can see twitter data plays an important role of predicting stock returns. With more data, the effect would be better."
   ]
  }
 ],
 "metadata": {
  "kernelspec": {
   "display_name": "Python 2",
   "language": "python",
   "name": "python2"
  },
  "language_info": {
   "codemirror_mode": {
    "name": "ipython",
    "version": 2
   },
   "file_extension": ".py",
   "mimetype": "text/x-python",
   "name": "python",
   "nbconvert_exporter": "python",
   "pygments_lexer": "ipython2",
   "version": "2.7.13"
  }
 },
 "nbformat": 4,
 "nbformat_minor": 2
}
