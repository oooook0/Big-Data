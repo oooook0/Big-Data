{
 "cells": [
  {
   "cell_type": "markdown",
   "metadata": {},
   "source": [
    "# <center> Baruch MFE Big Data Assignment B </center>\n",
    "### <center> Zijun(Alfred) Huang </center>"
   ]
  },
  {
   "cell_type": "markdown",
   "metadata": {},
   "source": [
    "##### 1. By when (what year) will all bitcoins have been mined? And how many?\n",
    "\n",
    "Solution:\n",
    "\n",
    "This can be solved through the reward machinism. The succesful miner finding the new block is rewarded with newly created bitcoins and the reward will be halved every 210,000 blocks(approximately 4 years).\n",
    "\n",
    "In the first 210,000 blocks, the value of each block is 50 BTC. According to the rules mentioned above, we know that in the second 210,000 blocks, the value would be 25 BTC. Given that the smallest unit in bitcoin is 0.00000001 BTC, we can easily calculate by following code:"
   ]
  },
  {
   "cell_type": "code",
   "execution_count": 1,
   "metadata": {
    "collapsed": false
   },
   "outputs": [
    {
     "name": "stdout",
     "output_type": "stream",
     "text": [
      "By year 2140, all bitcoins will have been mined\n",
      "The total amount of bitcoins will be 20999999.9976\n"
     ]
    }
   ],
   "source": [
    "counter, blocks, remain = 1, 210000, 50.\n",
    "allcoin = 0\n",
    "all_blocks = 0\n",
    "while remain >= 0.00000001:\n",
    "    allcoin += remain\n",
    "    remain /= 2\n",
    "    counter += 1\n",
    "    all_blocks += blocks\n",
    "counter -= 1\n",
    "print \"By year %s, all bitcoins will have been mined\" %(2009 + 4*counter - 1)\n",
    "print \"The total amount of bitcoins will be %s\" %(allcoin * blocks)"
   ]
  },
  {
   "cell_type": "markdown",
   "metadata": {},
   "source": [
    "##### 2. a) How many bitcoin spendable units are there currently? b) How does that compare with spendable units available in the world economy today? c) This is like asking: \"could bitcoin be used as a global currency?\"\n",
    "\n",
    "Solution a: \n",
    "\n",
    "The answer to this question can be obtained using api from blockchain.info"
   ]
  },
  {
   "cell_type": "code",
   "execution_count": 2,
   "metadata": {
    "collapsed": false
   },
   "outputs": [
    {
     "name": "stdout",
     "output_type": "stream",
     "text": [
      "There are 16190287.5 spendable units currently\n"
     ]
    }
   ],
   "source": [
    "from blockchain import statistics\n",
    "stats = statistics.get()\n",
    "btc_in_cir = stats.total_btc / 1e8\n",
    "print \"There are %s spendable units currently\" %(btc_in_cir)"
   ]
  },
  {
   "cell_type": "markdown",
   "metadata": {},
   "source": [
    "Solution b:        \n",
    "\n",
    "It is hard to answer this question because of the difficulty to define \"money\". And there are many opinions on the websites like [marketwatch](http://www.marketwatch.com/story/this-is-how-much-money-exists-in-the-entire-world-in-one-chart-2015-12-18), [gizmodo](http://gizmodo.com/5995301/how-much-money-is-there-on-earth) and so on. To make the comparison more meaningful, I define \"money\" as currencies such as bank notes, coins and money deposited in saving or checking accounts. And I use the number from [market_watch](http://www.marketwatch.com/story/this-is-how-much-money-exists-in-the-entire-world-in-one-chart-2015-12-18), which is the most recent data I found. The total is somewhere around $80.9 trillion."
   ]
  },
  {
   "cell_type": "markdown",
   "metadata": {},
   "source": [
    "Solution c:        \n",
    "\n",
    "We can use the exchange rate between usd and btc to get the answer."
   ]
  },
  {
   "cell_type": "code",
   "execution_count": 3,
   "metadata": {
    "collapsed": false
   },
   "outputs": [
    {
     "name": "stdout",
     "output_type": "stream",
     "text": [
      "1 btc equals 1192.73 usd, so the value of bitcoins in circulation is 19310641609.9 dollars\n",
      "Conclusion: the amount of bitcoins is far less than that of the traditional money. There is still a long way for bitcoin to become a global currency.\n"
     ]
    }
   ],
   "source": [
    "from blockchain import exchangerates\n",
    "ticker = exchangerates.get_ticker()\n",
    "btc_per_usd = ticker['USD'].p15min # print the 15 min price for usd dollar\n",
    "print \"1 btc equals %s usd, so the value of bitcoins in circulation is %s dollars\" % (btc_per_usd, btc_in_cir*btc_per_usd)\n",
    "print \"Conclusion: the amount of bitcoins is far less than that of the traditional money. There is still a long way for bitcoin to become a global currency.\""
   ]
  },
  {
   "cell_type": "markdown",
   "metadata": {},
   "source": [
    "##### 3 What's the current size of the bitcoin blockchain? How quickly is it growing?\n",
    "Solution:"
   ]
  },
  {
   "cell_type": "code",
   "execution_count": 4,
   "metadata": {
    "collapsed": false
   },
   "outputs": [
    {
     "name": "stdout",
     "output_type": "stream",
     "text": [
      "The current size of bitcoin blockchain is 154293.628906 MB.\n",
      "Growing rate of the blockchain is 8.3148 minutes between blocks.\n"
     ]
    }
   ],
   "source": [
    "print \"The current size of bitcoin blockchain is %s MB.\" % (stats.blocks_size / 1024.)\n",
    "print \"Growing rate of the blockchain is %s minutes between blocks.\" % (stats.minutes_between_blocks)"
   ]
  },
  {
   "cell_type": "markdown",
   "metadata": {},
   "source": [
    "##### 4 What does the blockchain verification cycle say about how quickly transactions can be verified\n",
    "Solution:\n",
    "\n",
    "According to thesis, a bitcoin transaction by design will get one confirmation after an average of ten minutes. Although there are some [debate](https://blog.bitaccess.co/block-confirmation-myth/) on the blockchain confirmation time, we will use the data from [blockchain.info](https://blockchain.info/charts/median-confirmation-time?timespan=2years)."
   ]
  },
  {
   "cell_type": "code",
   "execution_count": 5,
   "metadata": {
    "collapsed": false
   },
   "outputs": [
    {
     "name": "stdout",
     "output_type": "stream",
     "text": [
      "Average transaction time is 9.0489543379 mins.\n",
      "The smallest time of transaction is 5.93333333333 mins.\n"
     ]
    }
   ],
   "source": [
    "import pandas as pd\n",
    "import statsmodels.tsa.stattools as ts\n",
    "import matplotlib.pyplot as plt\n",
    "\n",
    "data = pd.read_csv('median-confirmation-time.csv',header = None, names=[\"Date\",\"Time\"])\n",
    "print \"Average transaction time is %s mins.\" % data['Time'].mean()\n",
    "print \"The smallest time of transaction is %s mins.\" % min(data['Time'])"
   ]
  },
  {
   "cell_type": "markdown",
   "metadata": {},
   "source": [
    "##### 5 What's the theoretical maximum transactions throughout of the bitcoin payments network?\n",
    "\n",
    "Solution:\n",
    "\n",
    "Theoretically speaking, the size of one block is 1 M and 'basic' bitcoin transactions are typically 250 bytes of data. So we can obta"
   ]
  },
  {
   "cell_type": "code",
   "execution_count": 6,
   "metadata": {
    "collapsed": false
   },
   "outputs": [
    {
     "name": "stdout",
     "output_type": "stream",
     "text": [
      "the maximum number of transactions in theory is 283852800\n"
     ]
    }
   ],
   "source": [
    "print \"the maximum number of transactions in theory is %s\" % (all_blocks * 1024 / 25)"
   ]
  },
  {
   "cell_type": "markdown",
   "metadata": {},
   "source": [
    "##### 6 What's the market capitalization of bitcoin as measured in US $ ?\n",
    "\n",
    "Solution:\n",
    "From the first problem, we know\n",
    "\n"
   ]
  },
  {
   "cell_type": "code",
   "execution_count": 7,
   "metadata": {
    "collapsed": false
   },
   "outputs": [
    {
     "name": "stdout",
     "output_type": "stream",
     "text": [
      "The market capitalization of bitcoin 19310641609.9 dollars\n"
     ]
    }
   ],
   "source": [
    "print \"The market capitalization of bitcoin %s dollars\" % (btc_in_cir * btc_per_usd)"
   ]
  }
 ],
 "metadata": {
  "kernelspec": {
   "display_name": "Python 2",
   "language": "python",
   "name": "python2"
  },
  "language_info": {
   "codemirror_mode": {
    "name": "ipython",
    "version": 2
   },
   "file_extension": ".py",
   "mimetype": "text/x-python",
   "name": "python",
   "nbconvert_exporter": "python",
   "pygments_lexer": "ipython2",
   "version": "2.7.13"
  }
 },
 "nbformat": 4,
 "nbformat_minor": 2
}
